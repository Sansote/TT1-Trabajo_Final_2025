{
  "nbformat": 4,
  "nbformat_minor": 0,
  "metadata": {
    "colab": {
      "provenance": []
    },
    "kernelspec": {
      "name": "python3",
      "display_name": "Python 3"
    },
    "language_info": {
      "name": "python"
    }
  },
  "cells": [
    {
      "cell_type": "code",
      "execution_count": 2,
      "metadata": {
        "id": "pEp0OW_PRuJN"
      },
      "outputs": [],
      "source": [
        "import yfinance as yf\n",
        "import pandas as pd\n",
        "import numpy as np\n",
        "import glob"
      ]
    },
    {
      "cell_type": "code",
      "source": [
        "def importa_datos_yahoo(ticker,inicio_intervalo, final_intervalo):\n",
        "    yf.download(ticker, start=inicio_intervalo, end=final_intervalo, interval=\"1d\")\n"
      ],
      "metadata": {
        "id": "9Av1QmGfSBba"
      },
      "execution_count": 3,
      "outputs": []
    },
    {
      "cell_type": "code",
      "source": [
        "ticker= \"GGAL.BA\"\n",
        "data = yf.download(ticker, start=\"2010-01-01\", end=\"2025-01-01\", interval=\"1d\")\n",
        "print(data.head())"
      ],
      "metadata": {
        "colab": {
          "base_uri": "https://localhost:8080/"
        },
        "id": "8CVD7ma7SD8L",
        "outputId": "4bc470dc-c201-4918-85c2-1994f0dc8210"
      },
      "execution_count": 4,
      "outputs": [
        {
          "output_type": "stream",
          "name": "stderr",
          "text": [
            "/tmp/ipython-input-4-3831495583.py:2: FutureWarning: YF.download() has changed argument auto_adjust default to True\n",
            "  data = yf.download(ticker, start=\"2010-01-01\", end=\"2025-01-01\", interval=\"1d\")\n",
            "[*********************100%***********************]  1 of 1 completed"
          ]
        },
        {
          "output_type": "stream",
          "name": "stdout",
          "text": [
            "Price          Close      High       Low      Open   Volume\n",
            "Ticker       GGAL.BA   GGAL.BA   GGAL.BA   GGAL.BA  GGAL.BA\n",
            "Date                                                       \n",
            "2010-01-04  1.837882  1.854744  1.821021  1.837882  1485340\n",
            "2010-01-05  1.888466  1.913758  1.837883  1.837883  2624534\n",
            "2010-01-06  1.812591  1.854744  1.795730  1.837883  3233258\n",
            "2010-01-07  1.846313  1.854744  1.787299  1.804160  2773188\n",
            "2010-01-08  1.804160  1.829452  1.787298  1.829452  1289394\n"
          ]
        },
        {
          "output_type": "stream",
          "name": "stderr",
          "text": [
            "\n"
          ]
        }
      ]
    },
    {
      "cell_type": "code",
      "source": [
        "tickers = [\n",
        "    \"ALUA.BA\", \"BBAR.BA\", \"BMA.BA\", \"BYMA.BA\", \"CEPU.BA\", \"COME.BA\", \"CRES.BA\",\n",
        "    \"EDN.BA\", \"GGAL.BA\", \"IRSA.BA\", \"LOMA.BA\", \"METR.BA\", \"PAMP.BA\", \"SUPV.BA\",\n",
        "    \"TECO2.BA\", \"TGNO4.BA\", \"TGSU2.BA\", \"TRAN.BA\", \"TXAR.BA\", \"VALO.BA\", \"YPFD.BA\"\n",
        "]\n",
        "\n",
        "\n"
      ],
      "metadata": {
        "id": "k37_z6nNSGRX"
      },
      "execution_count": 7,
      "outputs": []
    },
    {
      "cell_type": "code",
      "source": [
        "for accion in tickers:\n",
        "    temp=yf.download(accion, start='2010-01-01', end='2025-04-08')\n",
        "    temp_nombre_archivo=accion+\"_historico.csv\"\n",
        "    temp.to_csv(temp_nombre_archivo)"
      ],
      "metadata": {
        "colab": {
          "base_uri": "https://localhost:8080/"
        },
        "id": "fLtLqqnYSgEY",
        "outputId": "4cb5d843-97a0-4bfb-a3c9-e91c2db8a558"
      },
      "execution_count": 8,
      "outputs": [
        {
          "output_type": "stream",
          "name": "stderr",
          "text": [
            "/tmp/ipython-input-8-571000207.py:2: FutureWarning: YF.download() has changed argument auto_adjust default to True\n",
            "  temp=yf.download(accion, start='2010-01-01', end='2025-04-08')\n",
            "[*********************100%***********************]  1 of 1 completed\n",
            "/tmp/ipython-input-8-571000207.py:2: FutureWarning: YF.download() has changed argument auto_adjust default to True\n",
            "  temp=yf.download(accion, start='2010-01-01', end='2025-04-08')\n",
            "[*********************100%***********************]  1 of 1 completed\n",
            "/tmp/ipython-input-8-571000207.py:2: FutureWarning: YF.download() has changed argument auto_adjust default to True\n",
            "  temp=yf.download(accion, start='2010-01-01', end='2025-04-08')\n",
            "[*********************100%***********************]  1 of 1 completed\n",
            "/tmp/ipython-input-8-571000207.py:2: FutureWarning: YF.download() has changed argument auto_adjust default to True\n",
            "  temp=yf.download(accion, start='2010-01-01', end='2025-04-08')\n",
            "[*********************100%***********************]  1 of 1 completed\n",
            "/tmp/ipython-input-8-571000207.py:2: FutureWarning: YF.download() has changed argument auto_adjust default to True\n",
            "  temp=yf.download(accion, start='2010-01-01', end='2025-04-08')\n",
            "[*********************100%***********************]  1 of 1 completed\n",
            "/tmp/ipython-input-8-571000207.py:2: FutureWarning: YF.download() has changed argument auto_adjust default to True\n",
            "  temp=yf.download(accion, start='2010-01-01', end='2025-04-08')\n",
            "[*********************100%***********************]  1 of 1 completed\n",
            "/tmp/ipython-input-8-571000207.py:2: FutureWarning: YF.download() has changed argument auto_adjust default to True\n",
            "  temp=yf.download(accion, start='2010-01-01', end='2025-04-08')\n",
            "[*********************100%***********************]  1 of 1 completed\n",
            "/tmp/ipython-input-8-571000207.py:2: FutureWarning: YF.download() has changed argument auto_adjust default to True\n",
            "  temp=yf.download(accion, start='2010-01-01', end='2025-04-08')\n",
            "[*********************100%***********************]  1 of 1 completed\n",
            "/tmp/ipython-input-8-571000207.py:2: FutureWarning: YF.download() has changed argument auto_adjust default to True\n",
            "  temp=yf.download(accion, start='2010-01-01', end='2025-04-08')\n",
            "[*********************100%***********************]  1 of 1 completed\n",
            "/tmp/ipython-input-8-571000207.py:2: FutureWarning: YF.download() has changed argument auto_adjust default to True\n",
            "  temp=yf.download(accion, start='2010-01-01', end='2025-04-08')\n",
            "[*********************100%***********************]  1 of 1 completed\n",
            "/tmp/ipython-input-8-571000207.py:2: FutureWarning: YF.download() has changed argument auto_adjust default to True\n",
            "  temp=yf.download(accion, start='2010-01-01', end='2025-04-08')\n",
            "[*********************100%***********************]  1 of 1 completed\n",
            "/tmp/ipython-input-8-571000207.py:2: FutureWarning: YF.download() has changed argument auto_adjust default to True\n",
            "  temp=yf.download(accion, start='2010-01-01', end='2025-04-08')\n",
            "[*********************100%***********************]  1 of 1 completed\n",
            "/tmp/ipython-input-8-571000207.py:2: FutureWarning: YF.download() has changed argument auto_adjust default to True\n",
            "  temp=yf.download(accion, start='2010-01-01', end='2025-04-08')\n",
            "[*********************100%***********************]  1 of 1 completed\n",
            "/tmp/ipython-input-8-571000207.py:2: FutureWarning: YF.download() has changed argument auto_adjust default to True\n",
            "  temp=yf.download(accion, start='2010-01-01', end='2025-04-08')\n",
            "[*********************100%***********************]  1 of 1 completed\n",
            "/tmp/ipython-input-8-571000207.py:2: FutureWarning: YF.download() has changed argument auto_adjust default to True\n",
            "  temp=yf.download(accion, start='2010-01-01', end='2025-04-08')\n",
            "[*********************100%***********************]  1 of 1 completed\n",
            "/tmp/ipython-input-8-571000207.py:2: FutureWarning: YF.download() has changed argument auto_adjust default to True\n",
            "  temp=yf.download(accion, start='2010-01-01', end='2025-04-08')\n",
            "[*********************100%***********************]  1 of 1 completed\n",
            "/tmp/ipython-input-8-571000207.py:2: FutureWarning: YF.download() has changed argument auto_adjust default to True\n",
            "  temp=yf.download(accion, start='2010-01-01', end='2025-04-08')\n",
            "[*********************100%***********************]  1 of 1 completed\n",
            "/tmp/ipython-input-8-571000207.py:2: FutureWarning: YF.download() has changed argument auto_adjust default to True\n",
            "  temp=yf.download(accion, start='2010-01-01', end='2025-04-08')\n",
            "[*********************100%***********************]  1 of 1 completed\n",
            "/tmp/ipython-input-8-571000207.py:2: FutureWarning: YF.download() has changed argument auto_adjust default to True\n",
            "  temp=yf.download(accion, start='2010-01-01', end='2025-04-08')\n",
            "[*********************100%***********************]  1 of 1 completed\n",
            "/tmp/ipython-input-8-571000207.py:2: FutureWarning: YF.download() has changed argument auto_adjust default to True\n",
            "  temp=yf.download(accion, start='2010-01-01', end='2025-04-08')\n",
            "[*********************100%***********************]  1 of 1 completed\n",
            "/tmp/ipython-input-8-571000207.py:2: FutureWarning: YF.download() has changed argument auto_adjust default to True\n",
            "  temp=yf.download(accion, start='2010-01-01', end='2025-04-08')\n",
            "[*********************100%***********************]  1 of 1 completed\n"
          ]
        }
      ]
    },
    {
      "cell_type": "code",
      "source": [
        "\n",
        "columnas = ['Date', 'Close', 'High', 'Low', 'Open', 'Volume']\n",
        "\n",
        "df = pd.read_csv('ALUA.BA_historico.csv', skiprows=3, names= columnas)\n",
        "\n",
        "df = df.sort_values(by='Date', ascending=False)\n",
        "\n",
        "\n",
        "print(df.head())"
      ],
      "metadata": {
        "colab": {
          "base_uri": "https://localhost:8080/"
        },
        "id": "ML4D7VK8Sl59",
        "outputId": "dbfc3512-4bba-432c-c27c-133f076131f4"
      },
      "execution_count": 14,
      "outputs": [
        {
          "output_type": "stream",
          "name": "stdout",
          "text": [
            "            Date  Close   High    Low   Open   Volume\n",
            "3723  2025-04-07  787.0  793.0  741.0  782.0   745887\n",
            "3722  2025-04-04  793.0  799.0  733.0  798.0  1002353\n",
            "3721  2025-04-03  815.0  865.0  804.0  845.0   757022\n",
            "3720  2025-04-01  866.0  885.0  851.0  881.0   769946\n",
            "3719  2025-03-31  881.0  885.0  845.0  860.0   645803\n"
          ]
        }
      ]
    },
    {
      "cell_type": "code",
      "source": [
        "lista= glob.glob(\"*csv*\")\n",
        "for archivo in lista:\n",
        "    nombre_archivo = archivo.split('\\\\')[-1]\n",
        "    ticker = nombre_archivo.replace('_historico.csv', '')\n",
        "    columnas = ['Date', 'Close_'+ticker, 'High_'+ticker, 'Low_'+ticker, 'Open_'+ticker, 'Volume_'+ticker]\n",
        "    temp = pd.read_csv(archivo, skiprows=3, names= columnas)\n",
        "    temp.to_excel(ticker+'_formateado.xlsx', index=False)"
      ],
      "metadata": {
        "id": "dyDwWbjOTTzC"
      },
      "execution_count": 18,
      "outputs": []
    },
    {
      "cell_type": "code",
      "source": [
        "for archivo in lista:\n",
        "    nombre_archivo = archivo.split('\\\\')[-1]\n",
        "    ticker = nombre_archivo.replace('_historico.csv', '')\n",
        "    print(ticker)"
      ],
      "metadata": {
        "colab": {
          "base_uri": "https://localhost:8080/"
        },
        "id": "awBkbYloTpot",
        "outputId": "bfe866d1-74b3-41d7-8ef2-d947bdd1c937"
      },
      "execution_count": 19,
      "outputs": [
        {
          "output_type": "stream",
          "name": "stdout",
          "text": [
            "COME.BA\n",
            "SUPV.BA\n",
            "LOMA.BA\n",
            "TECO2.BA\n",
            "BBAR.BA\n",
            "TXAR.BA\n",
            "TGSU2.BA\n",
            "PAMP.BA\n",
            "IRSA.BA\n",
            "ALUA.BA\n",
            "TRAN.BA\n",
            "BYMA.BA\n",
            "YPFD.BA\n",
            "TGNO4.BA\n",
            "METR.BA\n",
            "EDN.BA\n",
            "BMA.BA\n",
            "GGAL.BA\n",
            "CEPU.BA\n",
            "CRES.BA\n",
            "VALO.BA\n"
          ]
        }
      ]
    },
    {
      "cell_type": "code",
      "source": [
        "lista_formateadas= glob.glob(\"*formateado*\")\n",
        "lista_formateadas"
      ],
      "metadata": {
        "colab": {
          "base_uri": "https://localhost:8080/"
        },
        "id": "1AqgjdMdTtkM",
        "outputId": "3a13705f-1b15-49c1-dc80-07a6f1a0280b"
      },
      "execution_count": 20,
      "outputs": [
        {
          "output_type": "execute_result",
          "data": {
            "text/plain": [
              "['COME.BA_formateado.xlsx',\n",
              " 'IRSA.BA_formateado.xlsx',\n",
              " 'TGNO4.BA_formateado.xlsx',\n",
              " 'CEPU.BA_formateado.xlsx',\n",
              " 'EDN.BA_formateado.xlsx',\n",
              " 'METR.BA_formateado.xlsx',\n",
              " 'TRAN.BA_formateado.xlsx',\n",
              " 'CRES.BA_formateado.xlsx',\n",
              " 'VALO.BA_formateado.xlsx',\n",
              " 'GGAL.BA_formateado.xlsx',\n",
              " 'PAMP.BA_formateado.xlsx',\n",
              " 'ALUA.BA_formateado.xlsx',\n",
              " 'TXAR.BA_formateado.xlsx',\n",
              " 'BBAR.BA_formateado.xlsx',\n",
              " 'SUPV.BA_formateado.xlsx',\n",
              " 'TECO2.BA_formateado.xlsx',\n",
              " 'BYMA.BA_formateado.xlsx',\n",
              " 'BMA.BA_formateado.xlsx',\n",
              " 'TGSU2.BA_formateado.xlsx',\n",
              " 'YPFD.BA_formateado.xlsx',\n",
              " 'LOMA.BA_formateado.xlsx']"
            ]
          },
          "metadata": {},
          "execution_count": 20
        }
      ]
    },
    {
      "cell_type": "code",
      "source": [
        "df_final = None\n",
        "\n",
        "for archivo in lista_formateadas:\n",
        "    df_temp = pd.read_excel(archivo)\n",
        "\n",
        "    # Asegurarse de que la columna 'Date' esté en formato datetime\n",
        "    df_temp['Date'] = pd.to_datetime(df_temp['Date'])\n",
        "\n",
        "    # Merge por 'Date' usando inner join\n",
        "    if df_final is None:\n",
        "        df_final = df_temp\n",
        "    else:\n",
        "        df_final = df_final.merge(df_temp, on='Date', how='inner')\n",
        "\n",
        "# Ver el resultado\n",
        "print(df_final.head())"
      ],
      "metadata": {
        "colab": {
          "base_uri": "https://localhost:8080/"
        },
        "id": "d6GAMTK1Tzxd",
        "outputId": "947c56e6-59c6-47f6-b3c6-3d1161b443d9"
      },
      "execution_count": 21,
      "outputs": [
        {
          "output_type": "stream",
          "name": "stdout",
          "text": [
            "        Date  Close_COME.BA  High_COME.BA  Low_COME.BA  Open_COME.BA  \\\n",
            "0 2017-11-01       1.851347      1.911553     1.832533      1.832533   \n",
            "1 2017-11-02       1.904027      1.911553     1.825007      1.843821   \n",
            "2 2017-11-03       1.930367      1.952945     1.885212      1.919079   \n",
            "3 2017-11-07       1.881450      1.964234     1.851347      1.934130   \n",
            "4 2017-11-08       1.885212      1.919079     1.862635      1.896501   \n",
            "\n",
            "   Volume_COME.BA  Close_IRSA.BA  High_IRSA.BA  Low_IRSA.BA  Open_IRSA.BA  \\\n",
            "0         6787093      45.452873     46.686089    44.131570     46.598005   \n",
            "1        12128308      46.421829     46.686089    45.188610     45.452873   \n",
            "2         5316519      46.906307     47.743132    46.686088     46.730132   \n",
            "3         5335993      47.434826     50.209564    46.642045     48.007392   \n",
            "4         7661889      46.245651     47.566958    45.937348     47.522914   \n",
            "\n",
            "   ...  Close_YPFD.BA  High_YPFD.BA  Low_YPFD.BA  Open_YPFD.BA  \\\n",
            "0  ...     422.596375    431.726682   417.393056    428.585055   \n",
            "1  ...     425.394348    427.063343   421.172814    424.118079   \n",
            "2  ...     425.541626    426.572457   421.172805    422.154560   \n",
            "3  ...     429.370453    441.740569   428.045078    431.137599   \n",
            "4  ...     426.817932    430.008635   416.313143    429.517758   \n",
            "\n",
            "   Volume_YPFD.BA  Close_LOMA.BA  High_LOMA.BA  Low_LOMA.BA  Open_LOMA.BA  \\\n",
            "0           91559      63.852230     66.091913    62.626737     64.655134   \n",
            "1           59296      63.852230     63.852230    63.852230     63.852230   \n",
            "2           53267      64.021263     65.500302    63.387389     65.077720   \n",
            "3          107764      63.302876     65.415789    63.260615     64.232556   \n",
            "4           96079      64.655136     64.655136    63.091582     63.471904   \n",
            "\n",
            "   Volume_LOMA.BA  \n",
            "0         3498760  \n",
            "1               0  \n",
            "2          814176  \n",
            "3          534263  \n",
            "4          389262  \n",
            "\n",
            "[5 rows x 106 columns]\n"
          ]
        }
      ]
    },
    {
      "cell_type": "code",
      "source": [
        "df_final.to_excel('archivo_consolidado.xlsx', index=False)"
      ],
      "metadata": {
        "id": "C_H33A5OT2xn"
      },
      "execution_count": 22,
      "outputs": []
    }
  ]
}